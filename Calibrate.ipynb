{
 "cells": [
  {
   "cell_type": "code",
   "execution_count": 17,
   "metadata": {},
   "outputs": [],
   "source": [
    "from solid import *\n",
    "import viewscad\n",
    "from solid.utils import *"
   ]
  },
  {
   "cell_type": "code",
   "execution_count": 18,
   "metadata": {},
   "outputs": [
    {
     "data": {
      "application/vnd.jupyter.widget-view+json": {
       "model_id": "6a77b528b5464a478dfa9fdc7e2c746d",
       "version_major": 2,
       "version_minor": 0
      },
      "text/plain": [
       "VBox(children=(HTML(value=''), Renderer(background='#cccc88', background_opacity=0.0, camera=PerspectiveCamera…"
      ]
     },
     "metadata": {},
     "output_type": "display_data"
    }
   ],
   "source": [
    "pipe_or = 10\n",
    "pipe_ir = 5\n",
    "\n",
    "outer = cylinder(r = pipe_or, h = 10)\n",
    "inner = cylinder(r = pipe_ir, h = 10)\n",
    "pipe_1 = outer - hole()(inner)\n",
    "r.render(pipe_1, outfile='out1.stl')"
   ]
  },
  {
   "cell_type": "code",
   "execution_count": 19,
   "metadata": {},
   "outputs": [
    {
     "data": {
      "application/vnd.jupyter.widget-view+json": {
       "model_id": "47317a31360f4a0c8da9bd3ff4c83edc",
       "version_major": 2,
       "version_minor": 0
      },
      "text/plain": [
       "VBox(children=(HTML(value=''), Renderer(background='#cccc88', background_opacity=0.0, camera=PerspectiveCamera…"
      ]
     },
     "metadata": {},
     "output_type": "display_data"
    }
   ],
   "source": [
    "r = viewscad.Renderer()\n",
    "c = cylinder(r=5,h=10)\n",
    "r.render(c, outfile='out.stl')"
   ]
  },
  {
   "cell_type": "code",
   "execution_count": 20,
   "metadata": {},
   "outputs": [
    {
     "data": {
      "application/vnd.jupyter.widget-view+json": {
       "model_id": "55f11ac4e39649ac92f5b4ab1f760f13",
       "version_major": 2,
       "version_minor": 0
      },
      "text/plain": [
       "VBox(children=(HTML(value=''), Renderer(background='#cccc88', background_opacity=0.0, camera=PerspectiveCamera…"
      ]
     },
     "metadata": {},
     "output_type": "display_data"
    }
   ],
   "source": [
    "def cyl(outer_d, inner_d):\n",
    "    outer_d /= 2\n",
    "    inner_d /= 2\n",
    "    if outer_d > inner_d:\n",
    "        out = cylinder(r = outer_d, h = 10)\n",
    "        inn = cylinder(r = inner_d, h = 10)\n",
    "        pipe = out - hole()(inn)\n",
    "        return pipe\n",
    "    else:\n",
    "        print(\"outer diameter must be larger than inner diameter\")\n",
    "\n",
    "pipe_2 = cyl(15,12)     \n",
    "r.render(pipe_2, outfile='out2.stl')\n"
   ]
  },
  {
   "cell_type": "code",
   "execution_count": 21,
   "metadata": {},
   "outputs": [
    {
     "data": {
      "application/vnd.jupyter.widget-view+json": {
       "model_id": "26362744bf4a411a94d22f6bd04e21e6",
       "version_major": 2,
       "version_minor": 0
      },
      "text/plain": [
       "VBox(children=(HTML(value=''), Renderer(background='#cccc88', background_opacity=0.0, camera=PerspectiveCamera…"
      ]
     },
     "metadata": {},
     "output_type": "display_data"
    }
   ],
   "source": [
    "def gen(inners, wall):\n",
    "    sum = 0\n",
    "    for i in range(len(inners)):\n",
    "        if i == 0: \n",
    "            out = cylinder(r = (inners[i]/2)+wall, h=10)\n",
    "            inn = cylinder(r = (inners[i]/2), h=10)\n",
    "            pipe = out - hole()(inn)\n",
    "        else:\n",
    "            sum += inners[i]\n",
    "            out = cylinder(r = (inners[i]/2)+wall, h=10)\n",
    "            inn = cylinder(r = (inners[i]/2), h=10)\n",
    "            pipe_tmp = out - hole()(inn)\n",
    "            pipe_tmp = right(sum)(\n",
    "               pipe_tmp()\n",
    "            )\n",
    "            \n",
    "            pipe += pipe_tmp\n",
    "\n",
    "    return pipe\n",
    "pipe_3 = gen([3,4,5],3)     \n",
    "r.render(pipe_3, outfile='out3.stl')              \n",
    "            \n",
    "            \n",
    "        "
   ]
  },
  {
   "cell_type": "code",
   "execution_count": 31,
   "metadata": {},
   "outputs": [
    {
     "data": {
      "application/vnd.jupyter.widget-view+json": {
       "model_id": "abd9250bc5844e578d8c0e8a8c56e29a",
       "version_major": 2,
       "version_minor": 0
      },
      "text/plain": [
       "VBox(children=(HTML(value=''), Renderer(background='#cccc88', background_opacity=0.0, camera=PerspectiveCamera…"
      ]
     },
     "metadata": {},
     "output_type": "display_data"
    }
   ],
   "source": [
    "def convex(inners, wall):\n",
    "    sum = 0\n",
    "    for i in range(len(inners)):\n",
    "        if i == 0: \n",
    "            out = cylinder(r = (inners[i]/2)+wall, h=wall)\n",
    "            inn = cylinder(r = (inners[i]/2), h=10)\n",
    "            pipe = out - hole()(inn)\n",
    "        else:\n",
    "            sum += wall\n",
    "            out = cylinder(r = (inners[i]/2)+wall, h=10)\n",
    "            inn = cylinder(r = (inners[i]/2), h=10)\n",
    "            pipe_tmp = out - hole()(inn)\n",
    "            pipe_tmp = up(sum)(\n",
    "               pipe_tmp()\n",
    "            )\n",
    "            \n",
    "            pipe += pipe_tmp\n",
    "\n",
    "    return pipe\n",
    "pipe_4 = convex([3,4,5],3)     \n",
    "r.render(pipe_4, outfile='out3.stl')              \n",
    "            "
   ]
  },
  {
   "cell_type": "code",
   "execution_count": null,
   "metadata": {},
   "outputs": [],
   "source": []
  }
 ],
 "metadata": {
  "kernelspec": {
   "display_name": "Python 3",
   "language": "python",
   "name": "python3"
  },
  "language_info": {
   "codemirror_mode": {
    "name": "ipython",
    "version": 3
   },
   "file_extension": ".py",
   "mimetype": "text/x-python",
   "name": "python",
   "nbconvert_exporter": "python",
   "pygments_lexer": "ipython3",
   "version": "3.7.3"
  }
 },
 "nbformat": 4,
 "nbformat_minor": 2
}
