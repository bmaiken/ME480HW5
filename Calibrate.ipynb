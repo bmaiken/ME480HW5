{
 "cells": [
  {
   "cell_type": "code",
   "execution_count": 76,
   "metadata": {},
   "outputs": [],
   "source": [
    "from solid import *\n",
    "import viewscad\n",
    "from solid.utils import *"
   ]
  },
  {
   "cell_type": "code",
   "execution_count": 56,
   "metadata": {},
   "outputs": [
    {
     "data": {
      "application/vnd.jupyter.widget-view+json": {
       "model_id": "5dabccba6bff4bd888701b75a500b9f7",
       "version_major": 2,
       "version_minor": 0
      },
      "text/plain": [
       "VBox(children=(HTML(value=''), Renderer(background='#cccc88', background_opacity=0.0, camera=PerspectiveCamera…"
      ]
     },
     "metadata": {},
     "output_type": "display_data"
    }
   ],
   "source": [
    "pipe_or = 5\n",
    "pipe_ir = 1.25\n",
    "\n",
    "outer = cylinder(r = pipe_or, h = 10)\n",
    "inner = cylinder(r = pipe_ir, h = 10)\n",
    "pipe_1 = outer - hole()(inner)\n",
    "r.render(pipe_1, outfile='out1.stl')"
   ]
  },
  {
   "cell_type": "code",
   "execution_count": 57,
   "metadata": {},
   "outputs": [
    {
     "data": {
      "application/vnd.jupyter.widget-view+json": {
       "model_id": "29b562332a94492a87137ecde5dee9c3",
       "version_major": 2,
       "version_minor": 0
      },
      "text/plain": [
       "VBox(children=(HTML(value=''), Renderer(background='#cccc88', background_opacity=0.0, camera=PerspectiveCamera…"
      ]
     },
     "metadata": {},
     "output_type": "display_data"
    }
   ],
   "source": [
    "r = viewscad.Renderer()\n",
    "c = cylinder(r=5,h=10)\n",
    "r.render(c, outfile='out.stl')"
   ]
  },
  {
   "cell_type": "code",
   "execution_count": 58,
   "metadata": {},
   "outputs": [
    {
     "data": {
      "application/vnd.jupyter.widget-view+json": {
       "model_id": "82ca987588b84203b5aa459ee7a80491",
       "version_major": 2,
       "version_minor": 0
      },
      "text/plain": [
       "VBox(children=(HTML(value=''), Renderer(background='#cccc88', background_opacity=0.0, camera=PerspectiveCamera…"
      ]
     },
     "metadata": {},
     "output_type": "display_data"
    }
   ],
   "source": [
    "def cyl(outer_d, inner_d):\n",
    "    outer_d /= 2\n",
    "    inner_d /= 2\n",
    "    if outer_d > inner_d:\n",
    "        out = cylinder(r = outer_d, h = 10)\n",
    "        inn = cylinder(r = inner_d, h = 10)\n",
    "        pipe = out - hole()(inn)\n",
    "        return pipe\n",
    "    else:\n",
    "        print(\"outer diameter must be larger than inner diameter\")\n",
    "\n",
    "pipe_2 = cyl(15,12)     \n",
    "r.render(pipe_2, outfile='out2.stl')\n"
   ]
  },
  {
   "cell_type": "code",
   "execution_count": 79,
   "metadata": {},
   "outputs": [
    {
     "data": {
      "application/vnd.jupyter.widget-view+json": {
       "model_id": "5eadb045aeab4ab0a3bccb15cdd224ba",
       "version_major": 2,
       "version_minor": 0
      },
      "text/plain": [
       "VBox(children=(HTML(value=''), Renderer(background='#cccc88', background_opacity=0.0, camera=PerspectiveCamera…"
      ]
     },
     "metadata": {},
     "output_type": "display_data"
    }
   ],
   "source": [
    "def gen(inners, wall):\n",
    "    sum = 0\n",
    "    for i in range(len(inners)):\n",
    "        if i == 0: \n",
    "            out = cylinder(r = (inners[i]/2)+wall, h=10)\n",
    "            inn = cylinder(r = (inners[i]/2), h=10)\n",
    "            pipe = out - hole()(inn)\n",
    "        else:\n",
    "            sum += inners[i]\n",
    "            out = cylinder(r = (inners[i]/2)+wall, h=10)\n",
    "            inn = cylinder(r = (inners[i]/2), h=10)\n",
    "            pipe_tmp = out - hole()(inn)\n",
    "            pipe_tmp = right(sum)(\n",
    "               pipe_tmp()\n",
    "            )\n",
    "            \n",
    "            pipe += pipe_tmp\n",
    "\n",
    "    return pipe\n",
    "pipe_3 = gen([3,4,5],3)     \n",
    "r.render(pipe_3, outfile='out3.stl')              \n",
    "            \n",
    "            \n",
    "        "
   ]
  },
  {
   "cell_type": "code",
   "execution_count": null,
   "metadata": {},
   "outputs": [],
   "source": []
  }
 ],
 "metadata": {
  "kernelspec": {
   "display_name": "Python 3",
   "language": "python",
   "name": "python3"
  },
  "language_info": {
   "codemirror_mode": {
    "name": "ipython",
    "version": 3
   },
   "file_extension": ".py",
   "mimetype": "text/x-python",
   "name": "python",
   "nbconvert_exporter": "python",
   "pygments_lexer": "ipython3",
   "version": "3.7.3"
  }
 },
 "nbformat": 4,
 "nbformat_minor": 2
}
